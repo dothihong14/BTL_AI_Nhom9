{
  "cells": [
    {
      "cell_type": "markdown",
      "metadata": {
        "id": "view-in-github",
        "colab_type": "text"
      },
      "source": [
        "<a href=\"https://colab.research.google.com/github/dothihong14/BTL_AI_Nhom9/blob/main/Copy_of_Acne1_2.ipynb\" target=\"_parent\"><img src=\"https://colab.research.google.com/assets/colab-badge.svg\" alt=\"Open In Colab\"/></a>"
      ]
    },
    {
      "cell_type": "code",
      "execution_count": null,
      "metadata": {
        "id": "ZlIV1nh9c8GW"
      },
      "outputs": [],
      "source": [
        "#Khai báo thư viện\n",
        "import tensorflow as tf\n",
        "from tensorflow.keras.preprocessing.image import ImageDataGenerator\n",
        "from tensorflow.keras.applications import MobileNet\n",
        "from tensorflow.keras.models import Sequential\n",
        "from tensorflow.keras.layers import Conv2D, MaxPooling2D, GlobalAveragePooling2D, Flatten, Dense, Dropout\n",
        "from tensorflow.keras.optimizers import Adam\n",
        "from sklearn.metrics import classification_report, confusion_matrix\n",
        "from sklearn.metrics import precision_recall_fscore_support, accuracy_score\n",
        "import numpy as np\n",
        "import matplotlib.pyplot as plt\n",
        "import seaborn as sns\n",
        "from imutils import paths\n",
        "import cv2\n",
        "import os"
      ]
    },
    {
      "cell_type": "code",
      "execution_count": null,
      "metadata": {
        "colab": {
          "base_uri": "https://localhost:8080/"
        },
        "id": "x4rAguvkdjtU",
        "outputId": "e50e0b04-6f9c-42bd-b5a7-7221c8483d29"
      },
      "outputs": [
        {
          "name": "stdout",
          "output_type": "stream",
          "text": [
            "Drive already mounted at /content/drive; to attempt to forcibly remount, call drive.mount(\"/content/drive\", force_remount=True).\n"
          ]
        }
      ],
      "source": [
        "from google.colab import drive\n",
        "drive.mount('/content/drive')"
      ]
    },
    {
      "cell_type": "code",
      "execution_count": null,
      "metadata": {
        "id": "4hdCgGoGirAj"
      },
      "outputs": [],
      "source": [
        "data_dir = '/content/drive/MyDrive/acne_level'"
      ]
    },
    {
      "cell_type": "code",
      "execution_count": null,
      "metadata": {
        "id": "qxiPh78eivip"
      },
      "outputs": [],
      "source": [
        "import shutil\n",
        "from sklearn.model_selection import train_test_split\n",
        "\n",
        "# Tạo thư mục cha train, val, test\n",
        "train_dir = '/content/drive/MyDrive/Acne_level/acne_train'\n",
        "val_dir = '/content/drive/MyDrive/Acne_level/acne_val'\n",
        "test_dir = '/content/drive/MyDrive/Acne_level/acne_test'\n",
        "os.makedirs(train_dir, exist_ok=True)\n",
        "os.makedirs(val_dir, exist_ok=True)\n",
        "os.makedirs(test_dir, exist_ok=True)\n",
        "\n",
        "# Duyệt qua từng thư mục con trong thư mục chứa dữ liệu\n",
        "for level_folder in os.listdir(data_dir):\n",
        "    if os.path.isdir(os.path.join(data_dir, level_folder)):\n",
        "        level_dir = os.path.join(data_dir, level_folder)\n",
        "\n",
        "        # Tạo các thư mục level 0, level 1, level 2 trong train, val, test\n",
        "        train_level_dir = os.path.join(train_dir, level_folder)\n",
        "        val_level_dir = os.path.join(val_dir, level_folder)\n",
        "        test_level_dir = os.path.join(test_dir, level_folder)\n",
        "\n",
        "        os.makedirs(train_level_dir, exist_ok=True)\n",
        "        os.makedirs(val_level_dir, exist_ok=True)\n",
        "        os.makedirs(test_level_dir, exist_ok=True)\n",
        "\n",
        "        # Lấy danh sách tất cả các tệp trong thư mục cấp độ hiện tại\n",
        "        all_files = [os.path.join(level_dir, f) for f in os.listdir(level_dir) if os.path.isfile(os.path.join(level_dir, f))]\n",
        "\n",
        "        # Chia dữ liệu thành train và temp với tỷ lệ 70%-30%\n",
        "        train_files, temp_files = train_test_split(all_files, test_size=0.2, random_state=42)\n",
        "\n",
        "        # Chia tiếp dữ liệu temp thành validation và test với tỷ lệ 50%-50% (tương đương 15%-15% của tổng dữ liệu ban đầu)\n",
        "        val_files, test_files = train_test_split(temp_files, test_size=0.5, random_state=42)\n",
        "\n",
        "        # Hàm để di chuyển tệp vào thư mục đích\n",
        "        def move_files(file_list, destination_folder):\n",
        "            for file in file_list:\n",
        "                shutil.copy(file, os.path.join(destination_folder, os.path.basename(file)))\n",
        "\n",
        "        # Di chuyển các tệp vào thư mục tương ứng trong train, val, test\n",
        "        move_files(train_files, train_level_dir)\n",
        "        move_files(val_files, val_level_dir)\n",
        "        move_files(test_files, test_level_dir)"
      ]
    },
    {
      "cell_type": "code",
      "execution_count": null,
      "metadata": {
        "colab": {
          "base_uri": "https://localhost:8080/"
        },
        "id": "V7I4mtN8eb8T",
        "outputId": "d93228d6-f8ac-44ee-ff6e-063ec95ca7b2"
      },
      "outputs": [
        {
          "name": "stdout",
          "output_type": "stream",
          "text": [
            "Number of Acne images: 1261\n",
            "Number of Train images: 1007\n",
            "Number of Vali images: 126\n",
            "Number of Test images: 128\n"
          ]
        }
      ],
      "source": [
        "\n",
        "from imutils import paths\n",
        "imgAcne= list(paths.list_images(\"/content/drive/MyDrive/Acne_level\"))\n",
        "imgTrain = list(paths.list_images(\"/content/drive/MyDrive/Acne_level/acne_train\"))\n",
        "imgVali = list(paths.list_images(\"/content/drive/MyDrive/Acne_level/acne_val\"))\n",
        "imgTest = list(paths.list_images(\"/content/drive/MyDrive/Acne_level/acne_test\"))\n",
        "print(f\"Number of Acne images: {len(imgAcne)}\")\n",
        "print(f\"Number of Train images: {len(imgTrain)}\")\n",
        "print(f\"Number of Vali images: {len(imgVali)}\")\n",
        "print(f\"Number of Test images: {len(imgTest)}\")"
      ]
    },
    {
      "cell_type": "markdown",
      "metadata": {
        "id": "E4Q2WlsDHXyw"
      },
      "source": [
        "# **XÂY DỰNG MÔ HÌNH**"
      ]
    },
    {
      "cell_type": "code",
      "execution_count": null,
      "metadata": {
        "id": "vmeqmvGdJ14E"
      },
      "outputs": [],
      "source": [
        "#Tiền xử lý hình ảnh cho toàn bộ tập dữ liệu\n",
        "def preprocess_image(imgAcne):\n",
        "  for image, label in imgAcne:\n",
        "    imgAcne = cv2.imread(image)\n",
        "    #Chuyển đổi ảnh sang định dạng RGB\n",
        "    imgAcne = cv2.cvtColor(imgAcne, cv2.COLOR_BGR2RGB)\n",
        "    #Điều chỉnh kích thước ảnh\n",
        "    imgAcne = cv2.resize(imgAcne, (150, 150))\n",
        "    #Tăng cường hình ảnh\n",
        "    imgAcne = augment_image(imgAcne)\n",
        "    yield imgAcne, label"
      ]
    },
    {
      "cell_type": "markdown",
      "metadata": {
        "id": "WZE7fv1KFgRx"
      },
      "source": [
        "**Tập huấn luyện (Train)**"
      ]
    },
    {
      "cell_type": "code",
      "execution_count": null,
      "metadata": {
        "id": "R-h8gUZlHif4"
      },
      "outputs": [],
      "source": [
        "X_train_acne = []\n",
        "y_train_acne = []"
      ]
    },
    {
      "cell_type": "code",
      "execution_count": null,
      "metadata": {
        "id": "F81WH4zmHsM9"
      },
      "outputs": [],
      "source": [
        "#Xử lý hình ảnh tập huấn luyện (Train)\n",
        "for path_train in imgTrain:\n",
        "\n",
        "\tY_train_acne = path_train.split(os.path.sep)[-2]\n",
        "\n",
        "\t# Xu ly anh\n",
        "\timg_acne = cv2.imread(path_train)\n",
        "\timg_acne = cv2.cvtColor(img_acne, cv2.COLOR_BGR2RGB) #Chuyển đổi ảnh sang định dạng RGB\n",
        "\timg_acne = cv2.resize(img_acne, (150, 150))\n",
        "\n",
        "\t# Them vao du lieu data va label\n",
        "\tX_train_acne.append(img_acne)\n",
        "\ty_train_acne.append(Y_train_acne)"
      ]
    },
    {
      "cell_type": "code",
      "execution_count": null,
      "metadata": {
        "id": "6wW9uC8JMaxB"
      },
      "outputs": [],
      "source": [
        "from sklearn.preprocessing import LabelBinarizer\n",
        "lb = LabelBinarizer()\n",
        "\n",
        "X_train_acne = np.array(X_train_acne)\n",
        "y_train_acne = np.array(y_train_acne)\n",
        "\n",
        "y_train_acne = lb.fit_transform(y_train_acne)           #Chuyển đổi nhãn thành one-hot encoding\n",
        "X_train_acne = X_train_acne.astype('float32') / 255     #Chuẩn hóa dữ liệu ảnh"
      ]
    },
    {
      "cell_type": "code",
      "execution_count": null,
      "metadata": {
        "id": "BusWhWi6Ms2r"
      },
      "outputs": [],
      "source": [
        "X_test_acne = []\n",
        "y_test_acne = []"
      ]
    },
    {
      "cell_type": "markdown",
      "metadata": {
        "id": "KmSVPZBPPzq4"
      },
      "source": [
        "**Tập validation**"
      ]
    },
    {
      "cell_type": "code",
      "execution_count": null,
      "metadata": {
        "id": "-zw1RdvbMwq6"
      },
      "outputs": [],
      "source": [
        "#Xử lý hình ảnh tập validation\n",
        "for path_test in imgVali:\n",
        "\n",
        "\tY_test_acne = path_test.split(os.path.sep)[-2]\n",
        "\n",
        "\t# Xu ly anh\n",
        "\timg1_acne = cv2.imread(path_test)\n",
        "\timg1_acne = cv2.cvtColor(img1_acne, cv2.COLOR_BGR2RGB) #Chuyển đổi ảnh sang định dạng RGB\n",
        "\timg1_acne = cv2.resize(img1_acne, (150, 150))\n",
        "\n",
        "\t# Them vao du lieu data va label\n",
        "\tX_test_acne.append(img1_acne)\n",
        "\ty_test_acne.append(Y_test_acne)"
      ]
    },
    {
      "cell_type": "code",
      "execution_count": null,
      "metadata": {
        "id": "RWCTT2iWNSx_"
      },
      "outputs": [],
      "source": [
        "X_test_acne = np.array(X_test_acne)\n",
        "y_test_acne = np.array(y_test_acne)\n",
        "y_test_acne = lb.fit_transform(y_test_acne)           ##Chuyển đổi nhãn thành one-hot encoding\n",
        "X_test_acne = X_test_acne.astype('float32') / 255     #Chuẩn hóa dữ liệu ảnh"
      ]
    },
    {
      "cell_type": "code",
      "execution_count": null,
      "metadata": {
        "id": "xqdDAgIdNmD5"
      },
      "outputs": [],
      "source": [
        "#Xử lý tập huấn luyện\n",
        "train_generator = preprocess_image(imgTrain)\n",
        "#Xứ lý tập xác nhận\n",
        "val_generator = preprocess_image(imgVali)\n",
        "#Xử lý tập đánh giá\n",
        "test_generator = preprocess_image(imgTest)"
      ]
    },
    {
      "cell_type": "markdown",
      "metadata": {
        "id": "EphkaYhPPRJx"
      },
      "source": [
        "# **Huấn luyện mô hình**"
      ]
    },
    {
      "cell_type": "code",
      "execution_count": null,
      "metadata": {
        "id": "j6fvsVPkOu0u"
      },
      "outputs": [],
      "source": [
        "model = Sequential([\n",
        "    #Lớp CNN1\n",
        "    Conv2D(32, (3, 3), activation = 'relu', input_shape = (150, 150, 3)), # Lớp tích chập 2D, 32 bộ lọc kích thước 3 x 3, hàm kích hoạt là ReLU\n",
        "                                                                          # kích thước ảnh đầu vào 150x150 với 3 kênh màu\n",
        "    MaxPooling2D(2,2), # Lớp MaxPooling 2D kích thước 2x2 dùng để giảm kích thước và số lượng đặc trưng thông qua lấy giá trị lớn nhất trong mỗi vùng pool.\n",
        "    #Lớp CNN2\n",
        "    Conv2D(64, (3, 3), activation = 'relu'),\n",
        "    MaxPooling2D(2,2),\n",
        "    #Lớp CNN3\n",
        "    Conv2D(128, (3, 3), activation='relu'),\n",
        "    MaxPooling2D(pool_size=(2, 2)),\n",
        "\n",
        "    Flatten(), # chuyển đổi đầu ra từ tensor nhiều chiều thành một vector 1D.\n",
        "    Dense(128, activation = 'relu'), # Lớp kết nối đầy đủ với 128 đơn vị và hàm kích hoạt là ReLU\n",
        "    Dense(3, activation = 'softmax') # phân loại đối tượng vào 3 lớp khác nhau, hàm softmax để tạo phân phối xác suất trên các lớp\n",
        "])"
      ]
    },
    {
      "cell_type": "code",
      "execution_count": null,
      "metadata": {
        "id": "EItTXJMcQi4k"
      },
      "outputs": [],
      "source": [
        "#Biên dịch mô hình\n",
        "model.compile(optimizer=Adam(learning_rate=0.001),\n",
        "              loss='categorical_crossentropy',\n",
        "              metrics=['accuracy'])"
      ]
    },
    {
      "cell_type": "code",
      "execution_count": null,
      "metadata": {
        "colab": {
          "base_uri": "https://localhost:8080/"
        },
        "id": "EMDO8Cy1Q9Hx",
        "outputId": "d68a391b-7dcd-48bc-90bb-11e9ab2329bb"
      },
      "outputs": [
        {
          "name": "stdout",
          "output_type": "stream",
          "text": [
            "Model: \"sequential\"\n",
            "_________________________________________________________________\n",
            " Layer (type)                Output Shape              Param #   \n",
            "=================================================================\n",
            " conv2d (Conv2D)             (None, 148, 148, 32)      896       \n",
            "                                                                 \n",
            " max_pooling2d (MaxPooling2  (None, 74, 74, 32)        0         \n",
            " D)                                                              \n",
            "                                                                 \n",
            " conv2d_1 (Conv2D)           (None, 72, 72, 64)        18496     \n",
            "                                                                 \n",
            " max_pooling2d_1 (MaxPoolin  (None, 36, 36, 64)        0         \n",
            " g2D)                                                            \n",
            "                                                                 \n",
            " conv2d_2 (Conv2D)           (None, 34, 34, 128)       73856     \n",
            "                                                                 \n",
            " max_pooling2d_2 (MaxPoolin  (None, 17, 17, 128)       0         \n",
            " g2D)                                                            \n",
            "                                                                 \n",
            " flatten (Flatten)           (None, 36992)             0         \n",
            "                                                                 \n",
            " dense (Dense)               (None, 128)               4735104   \n",
            "                                                                 \n",
            " dense_1 (Dense)             (None, 3)                 387       \n",
            "                                                                 \n",
            "=================================================================\n",
            "Total params: 4828739 (18.42 MB)\n",
            "Trainable params: 4828739 (18.42 MB)\n",
            "Non-trainable params: 0 (0.00 Byte)\n",
            "_________________________________________________________________\n"
          ]
        }
      ],
      "source": [
        "# Kiến trúc mô hình\n",
        "model.summary()"
      ]
    },
    {
      "cell_type": "code",
      "execution_count": null,
      "metadata": {
        "colab": {
          "base_uri": "https://localhost:8080/"
        },
        "id": "hw791DMWRDwq",
        "outputId": "cb7d6405-ba1f-415d-e703-54182fc7fb62"
      },
      "outputs": [
        {
          "name": "stdout",
          "output_type": "stream",
          "text": [
            "Epoch 1/15\n",
            "32/32 [==============================] - 56s 2s/step - loss: 1.0306 - accuracy: 0.4578 - val_loss: 0.9872 - val_accuracy: 0.4524\n",
            "Epoch 2/15\n",
            "32/32 [==============================] - 56s 2s/step - loss: 0.9724 - accuracy: 0.5094 - val_loss: 0.9922 - val_accuracy: 0.5238\n",
            "Epoch 3/15\n",
            "32/32 [==============================] - 51s 2s/step - loss: 0.9443 - accuracy: 0.5283 - val_loss: 0.9857 - val_accuracy: 0.4603\n",
            "Epoch 4/15\n",
            "32/32 [==============================] - 53s 2s/step - loss: 0.9140 - accuracy: 0.5601 - val_loss: 1.0077 - val_accuracy: 0.4603\n",
            "Epoch 5/15\n",
            "32/32 [==============================] - 52s 2s/step - loss: 0.8777 - accuracy: 0.5760 - val_loss: 1.0213 - val_accuracy: 0.5317\n",
            "Epoch 6/15\n",
            "32/32 [==============================] - 54s 2s/step - loss: 0.8132 - accuracy: 0.6256 - val_loss: 1.0091 - val_accuracy: 0.4841\n",
            "Epoch 7/15\n",
            "32/32 [==============================] - 52s 2s/step - loss: 0.7265 - accuracy: 0.6753 - val_loss: 1.1409 - val_accuracy: 0.5000\n",
            "Epoch 8/15\n",
            "32/32 [==============================] - 49s 2s/step - loss: 0.6588 - accuracy: 0.6951 - val_loss: 1.2474 - val_accuracy: 0.5000\n",
            "Epoch 9/15\n",
            "32/32 [==============================] - 51s 2s/step - loss: 0.5217 - accuracy: 0.7766 - val_loss: 1.3003 - val_accuracy: 0.4841\n",
            "Epoch 10/15\n",
            "32/32 [==============================] - 49s 2s/step - loss: 0.4354 - accuracy: 0.8252 - val_loss: 1.5455 - val_accuracy: 0.5317\n",
            "Epoch 11/15\n",
            "32/32 [==============================] - 48s 2s/step - loss: 0.3050 - accuracy: 0.8818 - val_loss: 1.8733 - val_accuracy: 0.5397\n",
            "Epoch 12/15\n",
            "32/32 [==============================] - 48s 2s/step - loss: 0.2168 - accuracy: 0.9086 - val_loss: 2.5980 - val_accuracy: 0.5079\n",
            "Epoch 13/15\n",
            "32/32 [==============================] - 51s 2s/step - loss: 0.1303 - accuracy: 0.9543 - val_loss: 3.0981 - val_accuracy: 0.5556\n",
            "Epoch 14/15\n",
            "32/32 [==============================] - 48s 2s/step - loss: 0.1047 - accuracy: 0.9702 - val_loss: 2.7474 - val_accuracy: 0.5238\n",
            "Epoch 15/15\n",
            "32/32 [==============================] - 48s 2s/step - loss: 0.0919 - accuracy: 0.9662 - val_loss: 2.9237 - val_accuracy: 0.4921\n"
          ]
        }
      ],
      "source": [
        "# Huấn luyện mô hình\n",
        "Epochs = 15\n",
        "history = model.fit(\n",
        "  X_train_acne, y_train_acne,\n",
        "  validation_data = (X_test_acne, y_test_acne),\n",
        "  epochs = Epochs,\n",
        "  batch_size = 32)"
      ]
    },
    {
      "cell_type": "code",
      "execution_count": null,
      "metadata": {
        "id": "yqPInfi9-rTQ"
      },
      "outputs": [],
      "source": []
    },
    {
      "cell_type": "markdown",
      "metadata": {
        "id": "OcDlF5YYhJ_e"
      },
      "source": [
        "# **ĐÁNH GIÁ MÔ HÌNH**"
      ]
    },
    {
      "cell_type": "code",
      "execution_count": null,
      "metadata": {
        "colab": {
          "base_uri": "https://localhost:8080/",
          "height": 473
        },
        "id": "0L5t7qgWcw0e",
        "outputId": "c69a823f-6213-4c0e-c57d-6395a53d4c41"
      },
      "outputs": [
        {
          "data": {
            "image/png": "[encoded data removed]",
            "text/plain": [
              "<Figure size 640x480 with 1 Axes>"
            ]
          },
          "metadata": {},
          "output_type": "display_data"
        }
      ],
      "source": [
        "# Đồ thị hàm mất mát\n",
        "loss = history.history['loss']\n",
        "val_loss = history.history['val_loss']\n",
        "epochs = range(1, len(loss)+1)\n",
        "plt.plot(epochs, loss, 'b', label = 'Độ mất mát trên tập huấn luyện')\n",
        "plt.plot(epochs, val_loss, 'r'\n",
        ", label = 'Độ mất mát trên tập kiểm thử')\n",
        "plt.title('Đồ thị độ mất mát - Mô hình ResNet')\n",
        "plt.xlabel('Vòng huấn luyện')\n",
        "plt.ylabel('Độ mất mát')\n",
        "plt.legend()\n",
        "plt.show()"
      ]
    },
    {
      "cell_type": "code",
      "execution_count": null,
      "metadata": {
        "colab": {
          "base_uri": "https://localhost:8080/",
          "height": 473
        },
        "id": "-OONvMx-damC",
        "outputId": "b16e0479-ee3c-4857-ec3a-530bcd6c9543"
      },
      "outputs": [
        {
          "data": {
            "image/png": "[encoded data removed]",
            "text/plain": [
              "<Figure size 640x480 with 1 Axes>"
            ]
          },
          "metadata": {},
          "output_type": "display_data"
        }
      ],
      "source": [
        "# Đồ thị độ chính xác của mô hình\n",
        "acc = history.history['accuracy']\n",
        "val_acc = history.history['val_accuracy']\n",
        "plt.plot(epochs, acc, 'b', label = 'Độ chính xác tập huấn luyện')\n",
        "plt.plot(epochs, val_acc, 'r', label = 'Độ chính xác trên tập kiểm thử')\n",
        "plt.title('Đồ thị độ chính xác - Mô hình ResNet')\n",
        "plt.xlabel('Vòng huấn luyện')\n",
        "plt.ylabel('Độ chính xác')\n",
        "plt.legend()\n",
        "plt.show()"
      ]
    },
    {
      "cell_type": "code",
      "execution_count": null,
      "metadata": {
        "colab": {
          "base_uri": "https://localhost:8080/"
        },
        "id": "_yFhto58dmC7",
        "outputId": "854a690e-2bbc-420b-946b-7f384c1c57e5"
      },
      "outputs": [
        {
          "name": "stdout",
          "output_type": "stream",
          "text": [
            "4/4 [==============================] - 3s 705ms/step\n",
            "F1-score (macro): 0.38380171955489556\n",
            "F1-score (micro): 0.49206349206349204\n",
            "F1-score (weighted): 0.4714834805578907\n"
          ]
        }
      ],
      "source": [
        "#\n",
        "import numpy as np\n",
        "from sklearn.metrics import f1_score\n",
        "from sklearn.preprocessing import MultiLabelBinarizer\n",
        "\n",
        "# Bước 1: Huấn luyện mô hình\n",
        "# Bước 2: Dự đoán trên tập kiểm tra\n",
        "y_pred_probs = model.predict(X_test_acne)\n",
        "y_pred_classes = np.argmax(y_pred_probs, axis=1)\n",
        "\n",
        "# Nếu y_test_acne đã ở định dạng one-hot encoding, chuyển đổi nó thành dạng nhãn đơn\n",
        "if y_test_acne.ndim == 2:\n",
        "    y_test_acne = np.argmax(y_test_acne, axis=1)\n",
        "\n",
        "# Bước 3: Tính toán F1-score\n",
        "f1_macro = f1_score(y_test_acne, y_pred_classes, average='macro')\n",
        "f1_micro = f1_score(y_test_acne, y_pred_classes, average='micro')\n",
        "f1_weighted = f1_score(y_test_acne, y_pred_classes, average='weighted')\n",
        "\n",
        "print(f\"F1-score (macro): {f1_macro}\")\n",
        "print(f\"F1-score (micro): {f1_micro}\")\n",
        "print(f\"F1-score (weighted): {f1_weighted}\")"
      ]
    },
    {
      "cell_type": "code",
      "execution_count": null,
      "metadata": {
        "colab": {
          "base_uri": "https://localhost:8080/"
        },
        "id": "9mYr_uLUpyaE",
        "outputId": "881a97e6-e04a-4598-b678-acee1ef36837"
      },
      "outputs": [
        {
          "name": "stdout",
          "output_type": "stream",
          "text": [
            "4/4 [==============================] - 2s 359ms/step\n",
            "              precision    recall  f1-score   support\n",
            "\n",
            "     Level 0       0.53      0.57      0.55        56\n",
            "     Level 1       0.48      0.55      0.51        53\n",
            "     Level 2       0.20      0.06      0.09        17\n",
            "\n",
            "    accuracy                           0.49       126\n",
            "   macro avg       0.40      0.39      0.38       126\n",
            "weighted avg       0.46      0.49      0.47       126\n",
            "\n",
            "Precision: 0.46399514268366726\n",
            "Recall: 0.49206349206349204\n",
            "F1-Score: 0.4714834805578907\n",
            "Accuracy: 0.49206349206349204\n"
          ]
        }
      ],
      "source": [
        "import matplotlib.pyplot as plt\n",
        "import seaborn as sns\n",
        "from sklearn.metrics import confusion_matrix, classification_report, precision_score, recall_score, f1_score, accuracy_score\n",
        "import numpy as np\n",
        "\n",
        "# Dự đoán trên tập kiểm tra\n",
        "y_pred = model.predict(X_test_acne)\n",
        "y_pred_classes = np.argmax(y_pred, axis=1)\n",
        "\n",
        "# Kiểm tra và điều chỉnh y_test_acne nếu cần\n",
        "if y_test_acne.ndim == 1:\n",
        "    # Nếu y_test_acne là một vector, điều chỉnh hoặc xử lý nó sao cho phù hợp\n",
        "    y_true_classes = y_test_acne  # Hoặc thực hiện các thao tác phù hợp khác\n",
        "else:\n",
        "    y_true_classes = np.argmax(y_test_acne, axis=1)\n",
        "\n",
        "# In báo cáo phân loại\n",
        "print(classification_report(y_true_classes, y_pred_classes, target_names=['Level 0', 'Level 1', 'Level 2']))\n",
        "\n",
        "# Tính toán các chỉ số\n",
        "precision = precision_score(y_true_classes, y_pred_classes, average='weighted')\n",
        "recall = recall_score(y_true_classes, y_pred_classes, average='weighted')\n",
        "f1 = f1_score(y_true_classes, y_pred_classes, average='weighted')\n",
        "accuracy = accuracy_score(y_true_classes, y_pred_classes)\n",
        "\n",
        "# In các chỉ số\n",
        "print('Precision:', precision)\n",
        "print('Recall:', recall)\n",
        "print('F1-Score:', f1)\n",
        "print('Accuracy:', accuracy)\n"
      ]
    },
    {
      "cell_type": "code",
      "execution_count": null,
      "metadata": {
        "colab": {
          "base_uri": "https://localhost:8080/"
        },
        "id": "m22EqKUUfQc1",
        "outputId": "3d1ce0c2-f75c-43e0-d8f7-3f16eddd7cd5"
      },
      "outputs": [
        {
          "name": "stderr",
          "output_type": "stream",
          "text": [
            "/usr/local/lib/python3.10/dist-packages/keras/src/engine/training.py:3103: UserWarning: You are saving your model as an HDF5 file via `model.save()`. This file format is considered legacy. We recommend using instead the native Keras format, e.g. `model.save('my_model.keras')`.\n",
            "  saving_api.save_model(\n"
          ]
        }
      ],
      "source": [
        "model.save('/content/drive/MyDrive/acne/CNN_ACNE.h5')"
      ]
    },
    {
      "cell_type": "markdown",
      "metadata": {
        "id": "T-rHhONHYEKG"
      },
      "source": [
        "# **KIỂM THỬ HÌNH ẢNH**"
      ]
    },
    {
      "cell_type": "code",
      "execution_count": null,
      "metadata": {
        "id": "yaBRlqY7Ydrm"
      },
      "outputs": [],
      "source": [
        "from imutils import paths\n",
        "\n",
        "imgTest = list(paths.list_images(\"/content/drive/MyDrive/Acne_level/acne_test\"))"
      ]
    },
    {
      "cell_type": "code",
      "execution_count": null,
      "metadata": {
        "id": "ebMbU3HMaHpY"
      },
      "outputs": [],
      "source": [
        "X_testHA = []\n",
        "y_testHA = []"
      ]
    },
    {
      "cell_type": "code",
      "execution_count": null,
      "metadata": {
        "id": "jZFVzd7BaMp7"
      },
      "outputs": [],
      "source": [
        "for path_test in imgTest:\n",
        "    Y_testHA = path_test.split(os.path.sep)[-2]\n",
        "\n",
        "    # Xu ly anh\n",
        "    img1 = cv2.imread(path_test)\n",
        "    img1 = cv2.cvtColor(img1, cv2.COLOR_BGR2RGB)\n",
        "    img1 = cv2.resize(img1, (150, 150))\n",
        "\n",
        "    if img1 is None:\n",
        "        print(\"Lỗi: Không thể đọc hình ảnh từ đường dẫn:\", path_test)\n",
        "        continue\n",
        "\n",
        "    img1 = cv2.resize(img1, (150, 150))\n",
        "\n",
        "    # Thêm vào dữ liệu data và label\n",
        "    X_testHA.append(img1)\n",
        "    y_testHA.append(Y_testHA)"
      ]
    },
    {
      "cell_type": "code",
      "execution_count": null,
      "metadata": {
        "id": "dftDoShob7E-"
      },
      "outputs": [],
      "source": [
        "from sklearn.preprocessing import LabelBinarizer\n",
        "lb = LabelBinarizer()\n",
        "X_testHA = np.array(X_testHA)\n",
        "y_testHA = np.array(y_testHA)\n",
        "y_testHA = lb.fit_transform(y_testHA)\n",
        "X_testHA = X_testHA.astype('float32') / 255"
      ]
    },
    {
      "cell_type": "code",
      "execution_count": null,
      "metadata": {
        "id": "U2_4YgaAb-dK"
      },
      "outputs": [],
      "source": [
        "loaded_model = tf.keras.models.load_model('/content/drive/MyDrive/acne_level/CNN_ACNE.h5')"
      ]
    },
    {
      "cell_type": "code",
      "execution_count": null,
      "metadata": {
        "colab": {
          "base_uri": "https://localhost:8080/"
        },
        "id": "Miz5XDr_cFXD",
        "outputId": "4e8db5e1-7af7-4f77-b3a2-ab2c958d9155"
      },
      "outputs": [
        {
          "name": "stdout",
          "output_type": "stream",
          "text": [
            "4/4 [==============================] - 3s 662ms/step\n"
          ]
        }
      ],
      "source": [
        "y_pred = loaded_model.predict(X_testHA)"
      ]
    },
    {
      "cell_type": "code",
      "execution_count": null,
      "metadata": {
        "colab": {
          "base_uri": "https://localhost:8080/"
        },
        "id": "2M1wAJoicnWS",
        "outputId": "abf8183f-1d7c-4e09-9044-fe2acc00cb7e"
      },
      "outputs": [
        {
          "data": {
            "text/plain": [
              "array([[4.42788512e-01, 5.57211518e-01, 1.80555091e-08],\n",
              "       [8.90407711e-04, 5.36435902e-01, 4.62673634e-01],\n",
              "       [6.38100922e-01, 3.61133188e-01, 7.65937963e-04],\n",
              "       [9.22210336e-01, 5.95700592e-02, 1.82196405e-02],\n",
              "       [9.70232904e-01, 2.08197907e-02, 8.94726999e-03],\n",
              "       [9.86781120e-01, 1.23498188e-02, 8.68977048e-04],\n",
              "       [2.18268018e-02, 6.23228550e-01, 3.54944736e-01],\n",
              "       [7.95696974e-01, 2.01179221e-01, 3.12388781e-03],\n",
              "       [9.51431096e-01, 3.16823088e-02, 1.68865658e-02],\n",
              "       [7.16777563e-01, 2.83222258e-01, 1.00544625e-07],\n",
              "       [7.39692943e-03, 8.75624061e-01, 1.16979040e-01],\n",
              "       [8.93485188e-01, 7.67306909e-02, 2.97839604e-02],\n",
              "       [1.68547867e-05, 9.99983132e-01, 4.91975627e-10],\n",
              "       [2.50000048e-05, 6.39009118e-01, 3.60965788e-01],\n",
              "       [8.68513823e-01, 2.70229485e-03, 1.28783926e-01],\n",
              "       [3.61898243e-01, 6.38081908e-01, 1.97721511e-05],\n",
              "       [8.35286200e-01, 1.64295167e-01, 4.18581476e-04],\n",
              "       [7.31081903e-01, 2.67775297e-01, 1.14274211e-03],\n",
              "       [9.99999464e-01, 4.35161638e-07, 1.57849678e-09],\n",
              "       [1.05228473e-03, 9.98946726e-01, 9.75479452e-07],\n",
              "       [1.73348657e-04, 9.99716043e-01, 1.10598747e-04],\n",
              "       [9.89299417e-01, 3.86844575e-03, 6.83200080e-03],\n",
              "       [9.33066197e-03, 9.90669310e-01, 1.75950660e-07],\n",
              "       [9.99859095e-01, 2.04062944e-05, 1.20490819e-04],\n",
              "       [5.94929196e-02, 9.30234730e-01, 1.02723073e-02],\n",
              "       [9.99973953e-01, 1.68921088e-05, 9.09550545e-06],\n",
              "       [3.55469609e-07, 2.58412067e-04, 9.99741316e-01],\n",
              "       [1.73535407e-01, 1.08880326e-01, 7.17584074e-01],\n",
              "       [8.90985802e-02, 8.95557940e-01, 1.53435254e-02],\n",
              "       [9.97987688e-01, 2.01226398e-03, 1.47685741e-09],\n",
              "       [9.19928730e-01, 1.60083529e-02, 6.40629157e-02],\n",
              "       [2.38804868e-03, 9.97610033e-01, 1.94294034e-06],\n",
              "       [2.76693911e-03, 9.97213542e-01, 1.94847489e-05],\n",
              "       [1.33693870e-03, 9.62164924e-02, 9.02446568e-01],\n",
              "       [1.60840288e-01, 8.01117480e-01, 3.80422659e-02],\n",
              "       [3.48331709e-03, 9.84714031e-01, 1.18025467e-02],\n",
              "       [4.18753139e-08, 9.99999940e-01, 1.04683374e-12],\n",
              "       [2.40405020e-03, 9.97595549e-01, 3.87191136e-07],\n",
              "       [4.74802136e-01, 5.25183797e-01, 1.41090013e-05],\n",
              "       [9.80213523e-01, 1.97806992e-02, 5.75846298e-06],\n",
              "       [8.73463213e-01, 1.16224818e-01, 1.03119249e-02],\n",
              "       [1.75674810e-04, 4.15265679e-01, 5.84558606e-01],\n",
              "       [7.97160864e-01, 1.78906590e-01, 2.39325985e-02],\n",
              "       [5.05410016e-01, 4.94587451e-01, 2.46953960e-06],\n",
              "       [1.00948953e-03, 4.56202745e-01, 5.42787671e-01],\n",
              "       [2.89904058e-01, 7.10082650e-01, 1.33510684e-05],\n",
              "       [8.32684413e-02, 9.16703403e-01, 2.80490731e-05],\n",
              "       [5.97910769e-02, 2.31907703e-02, 9.17018175e-01],\n",
              "       [1.00948953e-03, 4.56202745e-01, 5.42787671e-01],\n",
              "       [6.59169047e-04, 9.99337018e-01, 3.81520158e-06],\n",
              "       [2.09377974e-01, 3.16724658e-01, 4.73897368e-01],\n",
              "       [9.92000401e-01, 7.99918361e-03, 5.05277399e-07],\n",
              "       [9.94830847e-01, 1.82274892e-03, 3.34639288e-03],\n",
              "       [9.99405026e-01, 5.94130484e-04, 8.78877586e-07],\n",
              "       [2.68341620e-02, 9.72986519e-01, 1.79276802e-04],\n",
              "       [9.99753833e-01, 2.46256823e-04, 2.10061343e-11],\n",
              "       [9.60070908e-01, 3.99132892e-02, 1.58197072e-05],\n",
              "       [6.90308928e-01, 3.09041023e-01, 6.49977010e-04],\n",
              "       [6.28386855e-01, 3.18579167e-01, 5.30340001e-02],\n",
              "       [8.58949590e-03, 5.91998219e-01, 3.99412215e-01],\n",
              "       [1.70368425e-04, 9.84303176e-01, 1.55263860e-02],\n",
              "       [1.09491266e-01, 8.90402496e-01, 1.06127758e-04],\n",
              "       [5.48616052e-03, 9.59255695e-01, 3.52580547e-02],\n",
              "       [1.19272424e-02, 9.88065064e-01, 7.65749883e-06],\n",
              "       [8.43842921e-04, 9.36538994e-01, 6.26171753e-02],\n",
              "       [3.25390548e-02, 9.66808259e-01, 6.52661489e-04],\n",
              "       [9.64388549e-01, 3.33239436e-02, 2.28752801e-03],\n",
              "       [2.59499609e-01, 7.40463734e-01, 3.66023742e-05],\n",
              "       [5.38248918e-04, 9.99450564e-01, 1.12295866e-05],\n",
              "       [4.33196314e-03, 9.94537890e-01, 1.12996961e-03],\n",
              "       [2.06498548e-01, 7.93501318e-01, 6.83219782e-15],\n",
              "       [7.69366103e-04, 9.99227524e-01, 3.09925053e-06],\n",
              "       [3.24960808e-07, 9.99999583e-01, 9.53304102e-12],\n",
              "       [2.52398737e-02, 9.74456191e-01, 3.03865556e-04],\n",
              "       [7.98255112e-03, 7.71989167e-01, 2.20028296e-01],\n",
              "       [2.49636220e-03, 9.94273126e-01, 3.23041109e-03],\n",
              "       [7.16644452e-12, 1.18063988e-04, 9.99881804e-01],\n",
              "       [9.96137261e-01, 3.57584190e-03, 2.86775205e-04],\n",
              "       [1.09757841e-01, 8.90239716e-01, 2.55247346e-06],\n",
              "       [1.05089589e-03, 9.98948753e-01, 2.99218783e-07],\n",
              "       [9.72273666e-03, 9.90259469e-01, 1.78329065e-05],\n",
              "       [1.68399280e-03, 9.67619300e-01, 3.06967348e-02],\n",
              "       [2.03987464e-01, 4.54808384e-01, 3.41204137e-01],\n",
              "       [5.87132573e-03, 1.08570039e-01, 8.85558546e-01],\n",
              "       [6.33945882e-01, 3.65267158e-01, 7.86827004e-04],\n",
              "       [5.51252970e-06, 9.99994457e-01, 1.12670664e-08],\n",
              "       [1.86722800e-02, 9.81281877e-01, 4.58922041e-05],\n",
              "       [1.53574441e-02, 9.83536541e-01, 1.10596057e-03],\n",
              "       [5.41987717e-01, 3.30471277e-01, 1.27540976e-01],\n",
              "       [9.99999940e-01, 2.25755645e-08, 9.65724286e-14],\n",
              "       [4.90264297e-01, 5.09712040e-01, 2.36566102e-05],\n",
              "       [1.05189919e-01, 4.02252078e-02, 8.54584932e-01],\n",
              "       [4.00558263e-02, 9.59944129e-01, 7.86108956e-09],\n",
              "       [9.84294355e-01, 1.07868621e-03, 1.46268317e-02],\n",
              "       [8.01746026e-02, 9.19825435e-01, 5.18188585e-08],\n",
              "       [8.97675455e-01, 1.02324255e-01, 3.35030393e-07],\n",
              "       [7.70812482e-03, 9.92291808e-01, 5.72193102e-08],\n",
              "       [3.68254125e-01, 6.31600201e-01, 1.45711398e-04],\n",
              "       [9.38249886e-01, 6.12965226e-02, 4.53501416e-04],\n",
              "       [3.00771394e-03, 9.94622290e-01, 2.36987928e-03],\n",
              "       [6.01571845e-03, 9.93364990e-01, 6.19198312e-04],\n",
              "       [5.80176115e-01, 1.91695228e-01, 2.28128597e-01],\n",
              "       [9.84125733e-01, 1.58557352e-02, 1.84188375e-05],\n",
              "       [5.56761324e-01, 4.39906895e-01, 3.33189289e-03],\n",
              "       [7.77174660e-04, 8.72953422e-03, 9.90493357e-01],\n",
              "       [4.70744520e-02, 9.49939370e-01, 2.98620202e-03],\n",
              "       [6.45716116e-02, 9.34397280e-01, 1.03097700e-03],\n",
              "       [6.26186607e-03, 9.14459765e-01, 7.92783797e-02],\n",
              "       [1.07789051e-03, 8.88592154e-02, 9.10062790e-01],\n",
              "       [9.80665028e-01, 1.93263628e-02, 8.53989604e-06],\n",
              "       [5.69538236e-01, 3.50613445e-01, 7.98483193e-02],\n",
              "       [9.10212219e-01, 8.67727101e-02, 3.01500503e-03],\n",
              "       [1.05769940e-01, 8.84907126e-01, 9.32294410e-03],\n",
              "       [2.86375880e-02, 9.71199989e-01, 1.62474069e-04],\n",
              "       [1.01468697e-01, 8.39004815e-01, 5.95265552e-02],\n",
              "       [4.17460531e-01, 3.73874575e-01, 2.08664879e-01],\n",
              "       [4.24922071e-02, 3.48037146e-02, 9.22704101e-01],\n",
              "       [8.68152175e-03, 4.23395455e-01, 5.67923009e-01],\n",
              "       [4.06617709e-02, 9.53689456e-01, 5.64888958e-03],\n",
              "       [9.25284793e-10, 9.99579489e-01, 4.20525088e-04],\n",
              "       [4.54163644e-04, 1.94481581e-01, 8.05064261e-01],\n",
              "       [5.93333721e-01, 3.95794392e-01, 1.08719822e-02],\n",
              "       [3.83233072e-08, 9.99999940e-01, 4.81986853e-14],\n",
              "       [1.30356504e-02, 9.86961365e-01, 2.95142104e-06],\n",
              "       [9.77168381e-01, 2.08436232e-02, 1.98802771e-03],\n",
              "       [2.05146056e-02, 9.76539969e-01, 2.94551253e-03],\n",
              "       [9.99904811e-01, 9.02846004e-05, 4.86759791e-06],\n",
              "       [1.36759458e-02, 9.20353055e-01, 6.59709647e-02]], dtype=float32)"
            ]
          },
          "execution_count": 65,
          "metadata": {},
          "output_type": "execute_result"
        }
      ],
      "source": [
        "y_pred"
      ]
    },
    {
      "cell_type": "code",
      "execution_count": null,
      "metadata": {
        "id": "m3I-IOKAcolx"
      },
      "outputs": [],
      "source": [
        "max_indices = np.argmax(y_pred, axis=1)"
      ]
    },
    {
      "cell_type": "code",
      "execution_count": null,
      "metadata": {
        "id": "jDaOih-6eEf6"
      },
      "outputs": [],
      "source": [
        "y_pred_new = np.zeros_like(max_indices)\n",
        "y_pred_new[max_indices == 1] = 1\n",
        "y_pred_new[max_indices == 2] = 2"
      ]
    },
    {
      "cell_type": "code",
      "execution_count": null,
      "metadata": {
        "colab": {
          "base_uri": "https://localhost:8080/"
        },
        "id": "QUUex3_GeGHt",
        "outputId": "4dc388f0-ba29-4c20-f770-6ea489e25d59"
      },
      "outputs": [
        {
          "data": {
            "text/plain": [
              "array([1, 1, 0, 0, 0, 0, 1, 0, 0, 0, 1, 0, 1, 1, 0, 1, 0, 0, 0, 1, 1, 0,\n",
              "       1, 0, 1, 0, 2, 2, 1, 0, 0, 1, 1, 2, 1, 1, 1, 1, 1, 0, 0, 2, 0, 0,\n",
              "       2, 1, 1, 2, 2, 1, 2, 0, 0, 0, 1, 0, 0, 0, 0, 1, 1, 1, 1, 1, 1, 1,\n",
              "       0, 1, 1, 1, 1, 1, 1, 1, 1, 1, 2, 0, 1, 1, 1, 1, 1, 2, 0, 1, 1, 1,\n",
              "       0, 0, 1, 2, 1, 0, 1, 0, 1, 1, 0, 1, 1, 0, 0, 0, 2, 1, 1, 1, 2, 0,\n",
              "       0, 0, 1, 1, 1, 0, 2, 2, 1, 1, 2, 0, 1, 1, 0, 1, 0, 1])"
            ]
          },
          "execution_count": 68,
          "metadata": {},
          "output_type": "execute_result"
        }
      ],
      "source": [
        "y_pred_new"
      ]
    },
    {
      "cell_type": "code",
      "execution_count": null,
      "metadata": {
        "colab": {
          "base_uri": "https://localhost:8080/"
        },
        "id": "OScjxXpmeJDa",
        "outputId": "23550fe6-5dd1-4979-c649-34149dfb3503"
      },
      "outputs": [
        {
          "name": "stdout",
          "output_type": "stream",
          "text": [
            "[1 0 0 1 0 0 1 0 0 1 0 0 1 0 0 1 0 0 1 0 0 1 0 0 1 0 0 1 0 0 1 0 0 1 0 0 1\n",
            " 0 0 1 0 0 1 0 0 1 0 0 1 0 0 1 0 0 1 0 0 1 0 0 1 0 0 1 0 0 1 0 0 1 0 0 1 0\n",
            " 0 1 0 0 1 0 0 1 0 0 1 0 0 1 0 0 1 0 0 1 0 0 1 0 0 1 0 0 1 0 0 1 0 0 1 0 0\n",
            " 1 0 0 1 0 0 1 0 0 1 0 0 1 0 0 1 0 0 1 0 0 1 0 0 1 0 0 1 0 0 1 0 0 1 0 0 1\n",
            " 0 0 1 0 0 1 0 0 1 0 0 1 0 0 1 0 0 1 0 0 1 0 0 0 1 0 0 1 0 0 1 0 0 1 0 0 1\n",
            " 0 0 1 0 0 1 0 0 1 0 0 1 0 0 1 0 0 1 0 0 1 0 0 1 0 0 1 0 0 1 0 0 1 0 0 1 0\n",
            " 0 1 0 0 1 0 0 1 0 0 1 0 0 1 0 0 1 0 0 1 0 0 1 0 0 1 0 0 1 0 0 1 0 0 1 0 0\n",
            " 1 0 0 1 0 0 1 0 0 1 0 0 1 0 0 1 0 0 1 0 0 1 0 0 1 0 0 1 0 0 1 0 0 1 0 0 1\n",
            " 0 0 1 0 0 1 0 0 1 0 0 1 0 0 1 0 0 1 0 0 1 0 0 1 0 0 1 0 0 1 0 0 1 0 0 1 0\n",
            " 0 0 1 0 0 1 0 0 1 0 0 1 0 0 1 0 0 1 0 0 1 0 0 1 0 0 1 0 0 1 0 0 1 0 0 1 0\n",
            " 0 1 0 0 1 0 0 1 0 0 1 0 0 1]\n"
          ]
        }
      ],
      "source": [
        "y_test_new = np.array(y_testHA).reshape(-1)\n",
        "\n",
        "# In kết quả\n",
        "print(y_test_new)"
      ]
    },
    {
      "cell_type": "markdown",
      "metadata": {
        "id": "bTnuR7NPeOw-"
      },
      "source": [
        "**KIỂM THỬ HÌNH ẢNH CỤ THỂ**"
      ]
    },
    {
      "cell_type": "code",
      "execution_count": null,
      "metadata": {
        "id": "IiXF2U1GeQGI"
      },
      "outputs": [],
      "source": [
        "labels = ['Level 0','Level 1','Level 2']"
      ]
    },
    {
      "cell_type": "code",
      "execution_count": null,
      "metadata": {
        "colab": {
          "base_uri": "https://localhost:8080/"
        },
        "id": "i5bZlPw7egFU",
        "outputId": "cde7fa41-e6c7-4dd7-a5c9-856c02a409c1"
      },
      "outputs": [
        {
          "name": "stdout",
          "output_type": "stream",
          "text": [
            "Đã đọc thành công ảnh từ đường dẫn: /content/drive/MyDrive/Acne_level/acne_test/Level 1/levle1_120.jpg\n"
          ]
        }
      ],
      "source": [
        "import cv2\n",
        "\n",
        "# Đường dẫn tới tệp ảnh JPEG\n",
        "img_path = '/content/drive/MyDrive/Acne_level/acne_test/Level 1/levle1_120.jpg'\n",
        "\n",
        "# Đọc ảnh từ đường dẫn\n",
        "img = cv2.imread(img_path)\n",
        "\n",
        "# Kiểm tra xem ảnh có được đọc thành công không\n",
        "if img is None:\n",
        "    print(f\"Không thể đọc được ảnh từ đường dẫn: {img_path}\")\n",
        "else:\n",
        "    print(f\"Đã đọc thành công ảnh từ đường dẫn: {img_path}\")"
      ]
    },
    {
      "cell_type": "code",
      "execution_count": null,
      "metadata": {
        "id": "NHr9Q_NXekM_"
      },
      "outputs": [],
      "source": [
        "import cv2\n",
        "import numpy as np\n",
        "import tensorflow as tf\n",
        "import matplotlib.pyplot as plt\n",
        "\n",
        "# Đọc ảnh và chuyển ảnh\n",
        "img = cv2.imread('/content/drive/MyDrive/Acne_level/acne_test/Level 1/levle1_120.jpg')\n",
        "img_color = cv2.cvtColor(img, cv2.COLOR_BGR2RGB)\n",
        "\n",
        "# Đổi kích thước ảnh về 150x150\n",
        "img_resize = cv2.resize(img_color, (150, 150))\n",
        "\n",
        "# Thêm một chiều để khớp với đầu vào của mô hình và chuẩn hóa giá trị pixel về khoảng [0, 1]\n",
        "img_resize = img_resize / 255.0\n",
        "img_resize = np.expand_dims(img_resize, axis=-1)  # Thêm chiều kênh\n",
        "img_resize = np.expand_dims(img_resize, axis=0)  # Thêm chiều batch\n",
        "\n",
        "# Tải mô hình đã huấn luyện (thay 'loaded_model' bằng tên mô hình của bạn)\n",
        "model_path = \"/content/drive/MyDrive/acne/CNN_ACNE.h5\"\n",
        "loaded_model = tf.keras.models.load_model(model_path)\n",
        "\n",
        "# Dự đoán\n",
        "yhat = loaded_model.predict(img_resize)\n",
        "max_index = np.argmax(yhat)\n",
        "labels = ['Level 0', 'Level 1', 'Level 2']  # Đảm bảo rằng các nhãn được định nghĩa trước\n",
        "\n",
        "# In kết quả\n",
        "print(yhat)\n",
        "print('- Level 0: ', round(yhat[0][0]*100,2), \"%\")\n",
        "print('- Level 1: ', round(yhat[0][1]*100,2), \"%\")\n",
        "print('- Level 2: ', round(yhat[0][2]*100,2), \"%\")\n",
        "print(\"--> Nhãn dự đoán: \", labels[max_index])\n",
        "\n",
        "# Hiển thị hình\n",
        "plt.imshow(img_color)\n",
        "plt.title(\"Hình ảnh\")\n",
        "plt.axis('off')\n",
        "plt.show()"
      ]
    },
    {
      "cell_type": "code",
      "execution_count": null,
      "metadata": {
        "colab": {
          "base_uri": "https://localhost:8080/"
        },
        "id": "YFmvfEVssYUE",
        "outputId": "e91e12af-5a63-4c06-918c-938f6b12abfe"
      },
      "outputs": [
        {
          "name": "stdout",
          "output_type": "stream",
          "text": [
            "Collecting streamlit\n",
            "  Downloading streamlit-1.36.0-py2.py3-none-any.whl (8.6 MB)\n",
            "\u001b[2K     \u001b[90m━━━━━━━━━━━━━━━━━━━━━━━━━━━━━━━━━━━━━━━━\u001b[0m \u001b[32m8.6/8.6 MB\u001b[0m \u001b[31m33.2 MB/s\u001b[0m eta \u001b[36m0:00:00\u001b[0m\n",
            "\u001b[?25hRequirement already satisfied: altair<6,>=4.0 in /usr/local/lib/python3.10/dist-packages (from streamlit) (4.2.2)\n",
            "Requirement already satisfied: blinker<2,>=1.0.0 in /usr/lib/python3/dist-packages (from streamlit) (1.4)\n",
            "Requirement already satisfied: cachetools<6,>=4.0 in /usr/local/lib/python3.10/dist-packages (from streamlit) (5.3.3)\n",
            "Requirement already satisfied: click<9,>=7.0 in /usr/local/lib/python3.10/dist-packages (from streamlit) (8.1.7)\n",
            "Requirement already satisfied: numpy<3,>=1.20 in /usr/local/lib/python3.10/dist-packages (from streamlit) (1.25.2)\n",
            "Requirement already satisfied: packaging<25,>=20 in /usr/local/lib/python3.10/dist-packages (from streamlit) (24.1)\n",
            "Requirement already satisfied: pandas<3,>=1.3.0 in /usr/local/lib/python3.10/dist-packages (from streamlit) (2.0.3)\n",
            "Requirement already satisfied: pillow<11,>=7.1.0 in /usr/local/lib/python3.10/dist-packages (from streamlit) (9.4.0)\n",
            "Requirement already satisfied: protobuf<6,>=3.20 in /usr/local/lib/python3.10/dist-packages (from streamlit) (3.20.3)\n",
            "Requirement already satisfied: pyarrow>=7.0 in /usr/local/lib/python3.10/dist-packages (from streamlit) (14.0.2)\n",
            "Requirement already satisfied: requests<3,>=2.27 in /usr/local/lib/python3.10/dist-packages (from streamlit) (2.31.0)\n",
            "Requirement already satisfied: rich<14,>=10.14.0 in /usr/local/lib/python3.10/dist-packages (from streamlit) (13.7.1)\n",
            "Requirement already satisfied: tenacity<9,>=8.1.0 in /usr/local/lib/python3.10/dist-packages (from streamlit) (8.4.1)\n",
            "Requirement already satisfied: toml<2,>=0.10.1 in /usr/local/lib/python3.10/dist-packages (from streamlit) (0.10.2)\n",
            "Requirement already satisfied: typing-extensions<5,>=4.3.0 in /usr/local/lib/python3.10/dist-packages (from streamlit) (4.12.2)\n",
            "Collecting gitpython!=3.1.19,<4,>=3.0.7 (from streamlit)\n",
            "  Downloading GitPython-3.1.43-py3-none-any.whl (207 kB)\n",
            "\u001b[2K     \u001b[90m━━━━━━━━━━━━━━━━━━━━━━━━━━━━━━━━━━━━━━━━\u001b[0m \u001b[32m207.3/207.3 kB\u001b[0m \u001b[31m21.2 MB/s\u001b[0m eta \u001b[36m0:00:00\u001b[0m\n",
            "\u001b[?25hCollecting pydeck<1,>=0.8.0b4 (from streamlit)\n",
            "  Downloading pydeck-0.9.1-py2.py3-none-any.whl (6.9 MB)\n",
            "\u001b[2K     \u001b[90m━━━━━━━━━━━━━━━━━━━━━━━━━━━━━━━━━━━━━━━━\u001b[0m \u001b[32m6.9/6.9 MB\u001b[0m \u001b[31m54.2 MB/s\u001b[0m eta \u001b[36m0:00:00\u001b[0m\n",
            "\u001b[?25hRequirement already satisfied: tornado<7,>=6.0.3 in /usr/local/lib/python3.10/dist-packages (from streamlit) (6.3.3)\n",
            "Collecting watchdog<5,>=2.1.5 (from streamlit)\n",
            "  Downloading watchdog-4.0.1-py3-none-manylinux2014_x86_64.whl (83 kB)\n",
            "\u001b[2K     \u001b[90m━━━━━━━━━━━━━━━━━━━━━━━━━━━━━━━━━━━━━━━━\u001b[0m \u001b[32m83.0/83.0 kB\u001b[0m \u001b[31m8.8 MB/s\u001b[0m eta \u001b[36m0:00:00\u001b[0m\n",
            "\u001b[?25hRequirement already satisfied: entrypoints in /usr/local/lib/python3.10/dist-packages (from altair<6,>=4.0->streamlit) (0.4)\n",
            "Requirement already satisfied: jinja2 in /usr/local/lib/python3.10/dist-packages (from altair<6,>=4.0->streamlit) (3.1.4)\n",
            "Requirement already satisfied: jsonschema>=3.0 in /usr/local/lib/python3.10/dist-packages (from altair<6,>=4.0->streamlit) (4.19.2)\n",
            "Requirement already satisfied: toolz in /usr/local/lib/python3.10/dist-packages (from altair<6,>=4.0->streamlit) (0.12.1)\n",
            "Collecting gitdb<5,>=4.0.1 (from gitpython!=3.1.19,<4,>=3.0.7->streamlit)\n",
            "  Downloading gitdb-4.0.11-py3-none-any.whl (62 kB)\n",
            "\u001b[2K     \u001b[90m━━━━━━━━━━━━━━━━━━━━━━━━━━━━━━━━━━━━━━━━\u001b[0m \u001b[32m62.7/62.7 kB\u001b[0m \u001b[31m4.0 MB/s\u001b[0m eta \u001b[36m0:00:00\u001b[0m\n",
            "\u001b[?25hRequirement already satisfied: python-dateutil>=2.8.2 in /usr/local/lib/python3.10/dist-packages (from pandas<3,>=1.3.0->streamlit) (2.8.2)\n",
            "Requirement already satisfied: pytz>=2020.1 in /usr/local/lib/python3.10/dist-packages (from pandas<3,>=1.3.0->streamlit) (2023.4)\n",
            "Requirement already satisfied: tzdata>=2022.1 in /usr/local/lib/python3.10/dist-packages (from pandas<3,>=1.3.0->streamlit) (2024.1)\n",
            "Requirement already satisfied: charset-normalizer<4,>=2 in /usr/local/lib/python3.10/dist-packages (from requests<3,>=2.27->streamlit) (3.3.2)\n",
            "Requirement already satisfied: idna<4,>=2.5 in /usr/local/lib/python3.10/dist-packages (from requests<3,>=2.27->streamlit) (3.7)\n",
            "Requirement already satisfied: urllib3<3,>=1.21.1 in /usr/local/lib/python3.10/dist-packages (from requests<3,>=2.27->streamlit) (2.0.7)\n",
            "Requirement already satisfied: certifi>=2017.4.17 in /usr/local/lib/python3.10/dist-packages (from requests<3,>=2.27->streamlit) (2024.6.2)\n",
            "Requirement already satisfied: markdown-it-py>=2.2.0 in /usr/local/lib/python3.10/dist-packages (from rich<14,>=10.14.0->streamlit) (3.0.0)\n",
            "Requirement already satisfied: pygments<3.0.0,>=2.13.0 in /usr/local/lib/python3.10/dist-packages (from rich<14,>=10.14.0->streamlit) (2.16.1)\n",
            "Collecting smmap<6,>=3.0.1 (from gitdb<5,>=4.0.1->gitpython!=3.1.19,<4,>=3.0.7->streamlit)\n",
            "  Downloading smmap-5.0.1-py3-none-any.whl (24 kB)\n",
            "Requirement already satisfied: MarkupSafe>=2.0 in /usr/local/lib/python3.10/dist-packages (from jinja2->altair<6,>=4.0->streamlit) (2.1.5)\n",
            "Requirement already satisfied: attrs>=22.2.0 in /usr/local/lib/python3.10/dist-packages (from jsonschema>=3.0->altair<6,>=4.0->streamlit) (23.2.0)\n",
            "Requirement already satisfied: jsonschema-specifications>=2023.03.6 in /usr/local/lib/python3.10/dist-packages (from jsonschema>=3.0->altair<6,>=4.0->streamlit) (2023.12.1)\n",
            "Requirement already satisfied: referencing>=0.28.4 in /usr/local/lib/python3.10/dist-packages (from jsonschema>=3.0->altair<6,>=4.0->streamlit) (0.35.1)\n",
            "Requirement already satisfied: rpds-py>=0.7.1 in /usr/local/lib/python3.10/dist-packages (from jsonschema>=3.0->altair<6,>=4.0->streamlit) (0.18.1)\n",
            "Requirement already satisfied: mdurl~=0.1 in /usr/local/lib/python3.10/dist-packages (from markdown-it-py>=2.2.0->rich<14,>=10.14.0->streamlit) (0.1.2)\n",
            "Requirement already satisfied: six>=1.5 in /usr/local/lib/python3.10/dist-packages (from python-dateutil>=2.8.2->pandas<3,>=1.3.0->streamlit) (1.16.0)\n",
            "Installing collected packages: watchdog, smmap, pydeck, gitdb, gitpython, streamlit\n",
            "Successfully installed gitdb-4.0.11 gitpython-3.1.43 pydeck-0.9.1 smmap-5.0.1 streamlit-1.36.0 watchdog-4.0.1\n",
            "Collecting pyngrok\n",
            "  Downloading pyngrok-7.1.6-py3-none-any.whl (22 kB)\n",
            "Requirement already satisfied: PyYAML>=5.1 in /usr/local/lib/python3.10/dist-packages (from pyngrok) (6.0.1)\n",
            "Installing collected packages: pyngrok\n",
            "Successfully installed pyngrok-7.1.6\n"
          ]
        }
      ],
      "source": [
        "!pip install streamlit\n",
        "!pip install pyngrok"
      ]
    },
    {
      "cell_type": "code",
      "execution_count": null,
      "metadata": {
        "colab": {
          "base_uri": "https://localhost:8080/"
        },
        "id": "x_2C4ClOvLHa",
        "outputId": "49791771-057b-4c0a-b1fa-660f899fade6"
      },
      "outputs": [
        {
          "name": "stdout",
          "output_type": "stream",
          "text": [
            "Writing app.py\n"
          ]
        }
      ],
      "source": [
        "%%writefile app.py\n",
        "import streamlit as st\n",
        "import cv2\n",
        "import numpy as np\n",
        "import tensorflow as tf\n",
        "import matplotlib.pyplot as plt\n",
        "\n",
        "st.title('Ứng dụng Dự đoán cấp độ mụn')\n",
        "\n",
        "# Upload ảnh từ thiết bị\n",
        "uploaded_file = st.file_uploader(\"Chọn một tệp hình ảnh\", type=['jpg', 'jpeg'])\n",
        "\n",
        "if uploaded_file is not None:\n",
        "    # Đọc và hiển thị ảnh\n",
        "    image = plt.imread(uploaded_file)\n",
        "    st.image(image, caption='Ảnh đã chọn', use_column_width=True)\n",
        "\n",
        "    # Xử lý ảnh như trong đoạn mã ban đầu\n",
        "    img_color = cv2.cvtColor(image, cv2.COLOR_RGBA2RGB)  # Chuyển sang RGB nếu cần thiết\n",
        "    img_resize = cv2.resize(img_color, (150, 150))\n",
        "    img_resize = img_resize / 255.0\n",
        "    img_resize = np.expand_dims(img_resize, axis=-1)\n",
        "    img_resize = np.expand_dims(img_resize, axis=0)\n",
        "\n",
        "    model_path = \"/content/drive/MyDrive/acne_level/CNN_ACNE.h5\"  # Đường dẫn tới mô hình\n",
        "    loaded_model = tf.keras.models.load_model(model_path)\n",
        "\n",
        "    yhat = loaded_model.predict(img_resize)\n",
        "    max_index = np.argmax(yhat)\n",
        "    labels = ['Level 0', 'Level 1', 'Level 2']\n",
        "\n",
        "    st.write(\"Dự đoán:\")\n",
        "    st.write('- Level 0:', round(yhat[0][0] * 100, 2), \"%\")\n",
        "    st.write('- Level 1:', round(yhat[0][1] * 100, 2), \"%\")\n",
        "    st.write('- Level 2:', round(yhat[0][2] * 100, 2), \"%\")\n",
        "    st.write(\"Nhãn dự đoán:\", labels[max_index])\n"
      ]
    },
    {
      "cell_type": "code",
      "execution_count": null,
      "metadata": {
        "id": "uLXXTOzdxYPY"
      },
      "outputs": [],
      "source": [
        "from pyngrok import ngrok"
      ]
    },
    {
      "cell_type": "code",
      "execution_count": null,
      "metadata": {
        "colab": {
          "background_save": true,
          "base_uri": "https://localhost:8080/"
        },
        "id": "4LZCDEl_xa_k",
        "outputId": "4accb041-dffc-4d5b-e8ff-30dd31d6d116"
      },
      "outputs": [
        {
          "name": "stdout",
          "output_type": "stream",
          "text": [
            "\n",
            "Collecting usage statistics. To deactivate, set browser.gatherUsageStats to false.\n",
            "\u001b[0m\n",
            "\u001b[0m\n",
            "\u001b[34m\u001b[1m  You can now view your Streamlit app in your browser.\u001b[0m\n",
            "\u001b[0m\n",
            "\u001b[34m  Local URL: \u001b[0m\u001b[1mhttp://localhost:8501\u001b[0m\n",
            "\u001b[34m  Network URL: \u001b[0m\u001b[1mhttp://172.28.0.12:8501\u001b[0m\n",
            "\u001b[34m  External URL: \u001b[0m\u001b[1mhttp://35.237.210.195:8501\u001b[0m\n",
            "\u001b[0m\n"
          ]
        }
      ],
      "source": [
        "# Khởi động Streamlit server\n",
        "!streamlit run app.py &"
      ]
    },
    {
      "cell_type": "code",
      "execution_count": null,
      "metadata": {
        "id": "MdA3sGWkvWZ5"
      },
      "outputs": [],
      "source": [
        "# Tạo URL công khai với pyngrok\n",
        "public_url = ngrok.connect(port='8501')\n",
        "public_url\n"
      ]
    },
    {
      "cell_type": "code",
      "execution_count": null,
      "metadata": {
        "id": "sykUqmJmVXTg"
      },
      "outputs": [],
      "source": []
    }
  ],
  "metadata": {
    "colab": {
      "provenance": [],
      "toc_visible": true,
      "include_colab_link": true
    },
    "kernelspec": {
      "display_name": "Python 3",
      "name": "python3"
    },
    "language_info": {
      "name": "python"
    }
  },
  "nbformat": 4,
  "nbformat_minor": 0
}