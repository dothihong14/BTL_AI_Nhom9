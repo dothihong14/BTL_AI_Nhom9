{
  "nbformat": 4,
  "nbformat_minor": 0,
  "metadata": {
    "colab": {
      "provenance": [],
      "authorship_tag": "ABX9TyOP5oJeRX3nOoEygvAF2GyT",
      "include_colab_link": true
    },
    "kernelspec": {
      "name": "python3",
      "display_name": "Python 3"
    },
    "language_info": {
      "name": "python"
    }
  },
  "cells": [
    {
      "cell_type": "markdown",
      "metadata": {
        "id": "view-in-github",
        "colab_type": "text"
      },
      "source": [
        "<a href=\"https://colab.research.google.com/github/dothihong14/BTL_AI_Nhom9/blob/main/Trich_chon_DT.ipynb\" target=\"_parent\"><img src=\"https://colab.research.google.com/assets/colab-badge.svg\" alt=\"Open In Colab\"/></a>"
      ]
    },
    {
      "cell_type": "code",
      "execution_count": 1,
      "metadata": {
        "id": "htnh_BoHMiCf"
      },
      "outputs": [],
      "source": [
        "from keras.models import Sequential\n",
        "from keras.layers import Dense, Dropout, Conv2D, MaxPooling2D, Flatten\n",
        "\n",
        "model = Sequential()\n",
        "\n",
        "# lớp CNN1\n",
        "model.add(Conv2D(32, (3, 3), activation='relu', input_shape=(50, 50, 3)))\n",
        "model.add(MaxPooling2D((2, 2)))\n",
        "\n",
        "# lớp CNN2\n",
        "model.add(Conv2D(64, (3, 3), activation='relu'))\n",
        "model.add(MaxPooling2D((2, 2)))\n",
        "\n",
        "# chuyển dữ liệu đầu ra của mạng CNN từ mảng 2 chiều về mảng 1 chiều\n",
        "model.add(Flatten())\n",
        "\n",
        "# lớp ẩn\n",
        "model.add(Dense(512, activation='relu'))\n",
        "\n",
        "# lớp output\n",
        "model.add(Dense(3, activation='softmax'))  # 3 đầu ra\n"
      ]
    },
    {
      "cell_type": "code",
      "source": [],
      "metadata": {
        "id": "63daSIjhMwyP"
      },
      "execution_count": null,
      "outputs": []
    }
  ]
}